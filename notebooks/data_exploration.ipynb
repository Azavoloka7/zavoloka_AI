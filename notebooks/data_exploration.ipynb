# Import necessary libraries
import numpy as np
import matplotlib.pyplot as plt
from dataset_utils import load_npz

# Load preprocessed data
(x_train, y_train), (x_val, y_val), (x_test, y_test) = load_npz("mnist_data.npz")

# Data exploration
print("Training set shape:", x_train.shape)
print("Training labels:", np.unique(y_train))
print("Validation set shape:", x_val.shape)
print("Validation labels:", np.unique(y_val))
print("Test set shape:", x_test.shape)
print("Test labels:", np.unique(y_test))

# Display sample images
plt.figure(figsize=(10, 5))
for i in range(10):
    plt.subplot(2, 5, i + 1)
    plt.imshow(x_train[i], cmap='gray')
    plt.title(f"Label: {y_train[i]}")
    plt.axis('off')
plt.show()
