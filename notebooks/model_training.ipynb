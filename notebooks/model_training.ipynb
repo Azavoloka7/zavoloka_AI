# Import necessary libraries
import numpy as np
from model import build_model
from train import train_model
from dataset_utils import load_npz

# Load preprocessed data
(x_train, y_train), (x_val, y_val), (_, _) = load_npz("mnist_data.npz")

# Define model
input_shape = (28, 28)
num_classes = 10
model = build_model(input_shape, num_classes)

# Train model
history = train_model(model, x_train, y_train, x_val, y_val, batch_size=32, epochs=10)

# Plot training history
import matplotlib.pyplot as plt

plt.plot(history.history['accuracy'], label='accuracy')
plt.plot(history.history['val_accuracy'], label='val_accuracy')
plt.xlabel('Epoch')
plt.ylabel('Accuracy')
plt.legend()
plt.show()
